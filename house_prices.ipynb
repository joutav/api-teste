{
 "cells": [
  {
   "cell_type": "code",
   "execution_count": 5,
   "metadata": {
    "collapsed": true
   },
   "outputs": [
    {
     "name": "stdout",
     "output_type": "stream",
     "text": [
      "Requirement already satisfied: pandas in f:\\minhas aulas\\python\\aulas-python\\api-teste\\venv\\lib\\site-packages (1.1.5)\n",
      "Requirement already satisfied: pytz>=2017.2 in f:\\minhas aulas\\python\\aulas-python\\api-teste\\venv\\lib\\site-packages (from pandas) (2020.4)\n",
      "Requirement already satisfied: numpy>=1.15.4 in f:\\minhas aulas\\python\\aulas-python\\api-teste\\venv\\lib\\site-packages (from pandas) (1.19.4)\n",
      "Requirement already satisfied: python-dateutil>=2.7.3 in f:\\minhas aulas\\python\\aulas-python\\api-teste\\venv\\lib\\site-packages (from pandas) (2.8.1)\n",
      "Requirement already satisfied: six>=1.5 in f:\\minhas aulas\\python\\aulas-python\\api-teste\\venv\\lib\\site-packages (from python-dateutil>=2.7.3->pandas) (1.15.0)\n",
      "Requirement already satisfied: numpy in f:\\minhas aulas\\python\\aulas-python\\api-teste\\venv\\lib\\site-packages (1.19.4)\n",
      "Requirement already satisfied: seaborn in f:\\minhas aulas\\python\\aulas-python\\api-teste\\venv\\lib\\site-packages (0.11.0)\n",
      "Requirement already satisfied: matplotlib>=2.2 in f:\\minhas aulas\\python\\aulas-python\\api-teste\\venv\\lib\\site-packages (from seaborn) (3.3.3)\n",
      "Requirement already satisfied: numpy>=1.15 in f:\\minhas aulas\\python\\aulas-python\\api-teste\\venv\\lib\\site-packages (from seaborn) (1.19.4)\n",
      "Requirement already satisfied: scipy>=1.0 in f:\\minhas aulas\\python\\aulas-python\\api-teste\\venv\\lib\\site-packages (from seaborn) (1.5.4)\n",
      "Requirement already satisfied: pandas>=0.23 in f:\\minhas aulas\\python\\aulas-python\\api-teste\\venv\\lib\\site-packages (from seaborn) (1.1.5)\n",
      "Requirement already satisfied: cycler>=0.10 in f:\\minhas aulas\\python\\aulas-python\\api-teste\\venv\\lib\\site-packages (from matplotlib>=2.2->seaborn) (0.10.0)\n",
      "Requirement already satisfied: pyparsing!=2.0.4,!=2.1.2,!=2.1.6,>=2.0.3 in f:\\minhas aulas\\python\\aulas-python\\api-teste\\venv\\lib\\site-packages (from matplotlib>=2.2->seaborn) (2.4.7)\n",
      "Requirement already satisfied: pillow>=6.2.0 in f:\\minhas aulas\\python\\aulas-python\\api-teste\\venv\\lib\\site-packages (from matplotlib>=2.2->seaborn) (8.0.1)\n",
      "Requirement already satisfied: python-dateutil>=2.1 in f:\\minhas aulas\\python\\aulas-python\\api-teste\\venv\\lib\\site-packages (from matplotlib>=2.2->seaborn) (2.8.1)\n",
      "Requirement already satisfied: kiwisolver>=1.0.1 in f:\\minhas aulas\\python\\aulas-python\\api-teste\\venv\\lib\\site-packages (from matplotlib>=2.2->seaborn) (1.3.1)\n",
      "Requirement already satisfied: six in f:\\minhas aulas\\python\\aulas-python\\api-teste\\venv\\lib\\site-packages (from cycler>=0.10->matplotlib>=2.2->seaborn) (1.15.0)\n",
      "Requirement already satisfied: pytz>=2017.2 in f:\\minhas aulas\\python\\aulas-python\\api-teste\\venv\\lib\\site-packages (from pandas>=0.23->seaborn) (2020.4)\n",
      "Collecting sklearn\n",
      "  Downloading sklearn-0.0.tar.gz (1.1 kB)\n",
      "Collecting scikit-learn\n",
      "  Downloading scikit_learn-0.23.2-cp38-cp38-win32.whl (6.0 MB)\n",
      "Requirement already satisfied: joblib>=0.11 in f:\\minhas aulas\\python\\aulas-python\\api-teste\\venv\\lib\\site-packages (from scikit-learn->sklearn) (1.0.0)\n",
      "Requirement already satisfied: numpy>=1.13.3 in f:\\minhas aulas\\python\\aulas-python\\api-teste\\venv\\lib\\site-packages (from scikit-learn->sklearn) (1.19.4)\n",
      "Requirement already satisfied: scipy>=0.19.1 in f:\\minhas aulas\\python\\aulas-python\\api-teste\\venv\\lib\\site-packages (from scikit-learn->sklearn) (1.5.4)\n",
      "Collecting threadpoolctl>=2.0.0\n",
      "  Downloading threadpoolctl-2.1.0-py3-none-any.whl (12 kB)\n",
      "Using legacy 'setup.py install' for sklearn, since package 'wheel' is not installed.\n",
      "Installing collected packages: threadpoolctl, scikit-learn, sklearn\n",
      "    Running setup.py install for sklearn: started\n",
      "    Running setup.py install for sklearn: finished with status 'done'\n",
      "Successfully installed scikit-learn-0.23.2 sklearn-0.0 threadpoolctl-2.1.0\n"
     ]
    }
   ],
   "source": [
    "!pip install pandas\n",
    "!pip install numpy\n",
    "!pip install seaborn\n",
    "!pip install sklearn"
   ]
  },
  {
   "cell_type": "code",
   "execution_count": 2,
   "outputs": [
    {
     "data": {
      "text/plain": "   tamanho   ano  garagem   preco\n0    159.0  2003        2  208500\n1    117.0  1976        2  181500\n2    166.0  2001        2  223500\n3    160.0  1915        3  140000\n4    204.0  2000        3  250000",
      "text/html": "<div>\n<style scoped>\n    .dataframe tbody tr th:only-of-type {\n        vertical-align: middle;\n    }\n\n    .dataframe tbody tr th {\n        vertical-align: top;\n    }\n\n    .dataframe thead th {\n        text-align: right;\n    }\n</style>\n<table border=\"1\" class=\"dataframe\">\n  <thead>\n    <tr style=\"text-align: right;\">\n      <th></th>\n      <th>tamanho</th>\n      <th>ano</th>\n      <th>garagem</th>\n      <th>preco</th>\n    </tr>\n  </thead>\n  <tbody>\n    <tr>\n      <th>0</th>\n      <td>159.0</td>\n      <td>2003</td>\n      <td>2</td>\n      <td>208500</td>\n    </tr>\n    <tr>\n      <th>1</th>\n      <td>117.0</td>\n      <td>1976</td>\n      <td>2</td>\n      <td>181500</td>\n    </tr>\n    <tr>\n      <th>2</th>\n      <td>166.0</td>\n      <td>2001</td>\n      <td>2</td>\n      <td>223500</td>\n    </tr>\n    <tr>\n      <th>3</th>\n      <td>160.0</td>\n      <td>1915</td>\n      <td>3</td>\n      <td>140000</td>\n    </tr>\n    <tr>\n      <th>4</th>\n      <td>204.0</td>\n      <td>2000</td>\n      <td>3</td>\n      <td>250000</td>\n    </tr>\n  </tbody>\n</table>\n</div>"
     },
     "execution_count": 2,
     "metadata": {},
     "output_type": "execute_result"
    }
   ],
   "source": [
    "import pandas as pd\n",
    "\n",
    "df = pd.read_csv('dados/casas.csv')\n",
    "df.head()"
   ],
   "metadata": {
    "collapsed": false,
    "pycharm": {
     "name": "#%%\n"
    }
   }
  },
  {
   "cell_type": "code",
   "execution_count": 3,
   "outputs": [
    {
     "data": {
      "text/plain": "   tamanho   preco\n0    159.0  208500\n1    117.0  181500\n2    166.0  223500\n3    160.0  140000\n4    204.0  250000",
      "text/html": "<div>\n<style scoped>\n    .dataframe tbody tr th:only-of-type {\n        vertical-align: middle;\n    }\n\n    .dataframe tbody tr th {\n        vertical-align: top;\n    }\n\n    .dataframe thead th {\n        text-align: right;\n    }\n</style>\n<table border=\"1\" class=\"dataframe\">\n  <thead>\n    <tr style=\"text-align: right;\">\n      <th></th>\n      <th>tamanho</th>\n      <th>preco</th>\n    </tr>\n  </thead>\n  <tbody>\n    <tr>\n      <th>0</th>\n      <td>159.0</td>\n      <td>208500</td>\n    </tr>\n    <tr>\n      <th>1</th>\n      <td>117.0</td>\n      <td>181500</td>\n    </tr>\n    <tr>\n      <th>2</th>\n      <td>166.0</td>\n      <td>223500</td>\n    </tr>\n    <tr>\n      <th>3</th>\n      <td>160.0</td>\n      <td>140000</td>\n    </tr>\n    <tr>\n      <th>4</th>\n      <td>204.0</td>\n      <td>250000</td>\n    </tr>\n  </tbody>\n</table>\n</div>"
     },
     "execution_count": 3,
     "metadata": {},
     "output_type": "execute_result"
    }
   ],
   "source": [
    "df_modelo = df[['tamanho', 'preco']]\n",
    "df_modelo.head()"
   ],
   "metadata": {
    "collapsed": false,
    "pycharm": {
     "name": "#%%\n"
    }
   }
  },
  {
   "cell_type": "code",
   "execution_count": 4,
   "outputs": [],
   "source": [
    "x = df['tamanho']\n",
    "y = df['preco']"
   ],
   "metadata": {
    "collapsed": false,
    "pycharm": {
     "name": "#%%\n"
    }
   }
  },
  {
   "cell_type": "code",
   "execution_count": null,
   "outputs": [],
   "source": [
    "from sklearn.model_selection import train_test_split\n",
    "\n",
    "x_train, x_test, y_train, y_test = train_test_split(x, y)"
   ],
   "metadata": {
    "collapsed": false,
    "pycharm": {
     "name": "#%%\n"
    }
   }
  }
 ],
 "metadata": {
  "kernelspec": {
   "display_name": "Python 3",
   "language": "python",
   "name": "python3"
  },
  "language_info": {
   "codemirror_mode": {
    "name": "ipython",
    "version": 2
   },
   "file_extension": ".py",
   "mimetype": "text/x-python",
   "name": "python",
   "nbconvert_exporter": "python",
   "pygments_lexer": "ipython2",
   "version": "2.7.6"
  }
 },
 "nbformat": 4,
 "nbformat_minor": 0
}